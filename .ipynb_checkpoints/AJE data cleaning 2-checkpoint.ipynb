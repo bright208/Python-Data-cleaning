{
 "cells": [
  {
   "cell_type": "code",
   "execution_count": 1,
   "metadata": {},
   "outputs": [],
   "source": [
    "import pandas as pd\n",
    "import glob"
   ]
  },
  {
   "cell_type": "code",
   "execution_count": 61,
   "metadata": {},
   "outputs": [],
   "source": [
    "for i in range(0,12):#convert excel to csv\n",
    "    df=pd.read_excel(\"2021 AJE for Edison.xlsx\",skiprows=4,skipfooter=1,sheet_name=i)\n",
    "    month=df[\"Posting period\"].iloc[0]\n",
    "    df.to_csv(f\"{month}_2021.csv\",index=False)"
   ]
  },
  {
   "cell_type": "code",
   "execution_count": 5,
   "metadata": {},
   "outputs": [],
   "source": [
    "all_files=glob.glob(r\"C:\\Users\\XXXXXXX\\Desktop\\Python DataScience\\AJE 2021 history data\\*.csv\")\n",
    "dataset=[]\n",
    "newColumnName=['Fiscal Year', 'Posting period',\"Cons. Account No.\",\"CC/IO\",'Material','Material Description','Allocated GC Amount']\n",
    "for file in all_files:\n",
    "    df=pd.read_csv(file)\n",
    "    df=df[newColumnName]\n",
    "    dataset.append(df)"
   ]
  },
  {
   "cell_type": "code",
   "execution_count": 6,
   "metadata": {},
   "outputs": [],
   "source": [
    "totalList=pd.concat(dataset)"
   ]
  },
  {
   "cell_type": "code",
   "execution_count": 7,
   "metadata": {},
   "outputs": [],
   "source": [
    "categoryMappingTable=pd.read_excel(\"mapping table.xlsx\",sheet_name=\"category\")\n",
    "ccMappingTable=pd.read_excel(\"mapping table.xlsx\",sheet_name=\"CC Mapping Table\")\n",
    "accountMappingTable=pd.read_excel(\"mapping table.xlsx\",sheet_name=\"Account Mapping Table\")"
   ]
  },
  {
   "cell_type": "code",
   "execution_count": 8,
   "metadata": {},
   "outputs": [],
   "source": [
    "totalList=pd.merge(totalList,accountMappingTable[[\"Account\",\"Category in Finance Template\"]],how=\"left\",right_on=\"Account\",left_on=\"Cons. Account No.\")\n",
    "totalList=pd.merge(totalList,ccMappingTable[[\"Cost Ctr\",\"Department1\",\"Department2\"]],how=\"left\",right_on=\"Cost Ctr\",left_on=\"CC/IO\")\n",
    "totalList=pd.merge(totalList,categoryMappingTable,how=\"left\",on=\"Material\")"
   ]
  },
  {
   "cell_type": "code",
   "execution_count": 9,
   "metadata": {},
   "outputs": [],
   "source": [
    "totalList=totalList[((totalList[\"Category in Finance Template\"]==\"Chemicals & Gas\")|(totalList[\"Category in Finance Template\"]==\"Consumables\"))&(totalList[\"Department1\"]==\"ASSY\")&(totalList[\"Department2\"]==\"Assembly\")]\n",
    "           "
   ]
  },
  {
   "cell_type": "code",
   "execution_count": 10,
   "metadata": {},
   "outputs": [],
   "source": [
    "totalList[\"AJE Category\"]=totalList[\"AJE Category\"].fillna(\"OTHERS\")"
   ]
  },
  {
   "cell_type": "code",
   "execution_count": null,
   "metadata": {},
   "outputs": [],
   "source": [
    "totalList=totalList.reset_index(drop=True)\n",
    "totalList[\"Date\"]=totalList[\"Fiscal Year\"].astype(str)+\"/\"+totalList[\"Posting period\"].astype(str)\n",
    "totalList[\"Date\"]=pd.to_datetime(totalList[\"Date\"])"
   ]
  },
  {
   "cell_type": "code",
   "execution_count": 12,
   "metadata": {},
   "outputs": [],
   "source": [
    "pivot=totalList.groupby(pd.Grouper(key=\"Date\", freq=\"1Q\"))[\"Allocated GC Amount\"].sum()"
   ]
  },
  {
   "cell_type": "code",
   "execution_count": 13,
   "metadata": {},
   "outputs": [],
   "source": [
    "with pd.ExcelWriter(\"2021_total_list.xlsx\") as writer:\n",
    "    totalList.to_excel(writer,sheet_name=\"Total list\",index=False)\n",
    "    pivot.to_excel(writer,sheet_name=\"Pivot Table\")"
   ]
  }
 ],
 "metadata": {
  "kernelspec": {
   "display_name": "Python 3 (ipykernel)",
   "language": "python",
   "name": "python3"
  },
  "language_info": {
   "codemirror_mode": {
    "name": "ipython",
    "version": 3
   },
   "file_extension": ".py",
   "mimetype": "text/x-python",
   "name": "python",
   "nbconvert_exporter": "python",
   "pygments_lexer": "ipython3",
   "version": "3.9.7"
  }
 },
 "nbformat": 4,
 "nbformat_minor": 2
}
