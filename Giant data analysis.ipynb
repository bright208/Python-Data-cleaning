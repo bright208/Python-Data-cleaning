{
 "cells": [
  {
   "cell_type": "code",
   "execution_count": 1,
   "id": "102f63f6",
   "metadata": {},
   "outputs": [],
   "source": [
    "import pandas as pd\n",
    "import glob"
   ]
  },
  {
   "cell_type": "code",
   "execution_count": 2,
   "id": "57284e9a",
   "metadata": {},
   "outputs": [],
   "source": [
    "all_files=glob.glob(\"C:/Users/nsysu/Desktop/09_16_Project/*.csv\")\n",
    "endRows=[]\n",
    "endColumns=[]\n",
    "problemFile=[]\n",
    "dataset=[]\n",
    "\n",
    "def getData():\n",
    "        \n",
    "    if len(all_files)==0:\n",
    "        print(\"找不到Rawdata位置，請檢查名稱或是路徑是否正確\")\n",
    "        return\n",
    "    \n",
    "    for file in all_files:\n",
    "    \n",
    "        try:\n",
    "            df=pd.read_csv(file,skiprows=76,nrows=41)\n",
    "            endRow=list(df[\"Y0\"]==0).index(True)\n",
    "            endColumn=list(df.iloc[0]==0).index(True)\n",
    "            endRows.append(endRow)\n",
    "            endColumns.append(endColumn)\n",
    "            df=df.iloc[0:endRow,1:endColumn]\n",
    "            maxValue=df.max().max()\n",
    "            minValue=df.min().min()        \n",
    "            dataset.append([maxValue,minValue,file.split(\"\\\\\")[1]])        \n",
    "        \n",
    "        except pd.errors.ParserError:\n",
    "            print(\"資料格式錯誤\")\n",
    "            return\n",
    "        except:\n",
    "            problemFile.append(file.split(\"\\\\\")[1])        \n",
    "    \n",
    "getData()"
   ]
  },
  {
   "cell_type": "code",
   "execution_count": null,
   "id": "ee8837b0",
   "metadata": {
    "scrolled": true
   },
   "outputs": [],
   "source": [
    "print(\"資料列數:\",endRows,\"資料欄數:\",endColumns) #資料範圍檢查"
   ]
  },
  {
   "cell_type": "code",
   "execution_count": 8,
   "id": "fa37cc5d",
   "metadata": {},
   "outputs": [],
   "source": [
    "datasetDf=pd.DataFrame(dataset,columns=[\"Max\",\"Min\",\"FileName\"])\n",
    "problemFileDf=pd.DataFrame(problemFile,columns=[\"ProblemFileName\"])"
   ]
  },
  {
   "cell_type": "code",
   "execution_count": 16,
   "id": "6475c382",
   "metadata": {},
   "outputs": [],
   "source": [
    "with pd.ExcelWriter(\"total_list.xlsx\") as writer:\n",
    "    datasetDf.describe().to_excel(writer,sheet_name=\"data_info\")\n",
    "    datasetDf.to_excel(writer,sheet_name=\"total_list\",index=False)\n",
    "    datasetDf[datasetDf[\"Min\"]>23000].to_excel(writer,sheet_name=\"23000\",index=False)\n",
    "    datasetDf[(datasetDf[\"Min\"]<=23000) & (datasetDf[\"Min\"]>22000)].to_excel(writer,sheet_name=\"22000\",index=False)\n",
    "    datasetDf[(datasetDf[\"Min\"]<=22000) & (datasetDf[\"Min\"]>21000)].to_excel(writer,sheet_name=\"21000\",index=False)\n",
    "    datasetDf[(datasetDf[\"Min\"]<=21000) & (datasetDf[\"Min\"]>20000)].to_excel(writer,sheet_name=\"20000\",index=False)\n",
    "    datasetDf[(datasetDf[\"Min\"]<=20000)].to_excel(writer,sheet_name=\"below_20000\",index=False)\n",
    "    problemFileDf.to_excel(writer,sheet_name=\"Problem File\",index=False)"
   ]
  }
 ],
 "metadata": {
  "kernelspec": {
   "display_name": "Python 3 (ipykernel)",
   "language": "python",
   "name": "python3"
  },
  "language_info": {
   "codemirror_mode": {
    "name": "ipython",
    "version": 3
   },
   "file_extension": ".py",
   "mimetype": "text/x-python",
   "name": "python",
   "nbconvert_exporter": "python",
   "pygments_lexer": "ipython3",
   "version": "3.9.7"
  }
 },
 "nbformat": 4,
 "nbformat_minor": 5
}
