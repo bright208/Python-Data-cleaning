{
 "cells": [
  {
   "cell_type": "code",
   "execution_count": 15,
   "metadata": {},
   "outputs": [],
   "source": [
    "import pandas as pd\n",
    "import glob"
   ]
  },
  {
   "cell_type": "code",
   "execution_count": 16,
   "metadata": {},
   "outputs": [],
   "source": [
    "all_files=glob.glob(\"C:/Users/XXXXXX/Desktop/Python DataScience/AJE data cleaning/*.csv\")\n",
    "months={\"jan\":1,\"feb\":2,\"mar\":3,\"apr\":4,\"may\":5,\"jun\":6,\"jul\":7,\"aug\":8,\"sep\":9,\"oct\":10,\"nov\":11,\"dec\":12}\n",
    "dataset=[]\n",
    "problemFile=[]\n",
    "essentialColumns=['Date','AJE Category', 'Supplier', 'Owner', 'Material', 'Matl Description','AJE',\n",
    "                  'Actual Consumption', 'Actual Replenishment']\n",
    "    \n",
    "for file in all_files:    \n",
    "    try:\n",
    "        month=file.split(\"\\\\\")[1].strip()[0:3].lower()\n",
    "        df=pd.read_csv(file)\n",
    "        dataset.append(df[essentialColumns])        \n",
    "    except:\n",
    "        problemFile.append(file)        \n",
    "        \n",
    "total_list=pd.concat(dataset,ignore_index=True,sort=False)"
   ]
  },
  {
   "cell_type": "code",
   "execution_count": 19,
   "metadata": {},
   "outputs": [
    {
     "data": {
      "text/plain": [
       "[]"
      ]
     },
     "execution_count": 19,
     "metadata": {},
     "output_type": "execute_result"
    }
   ],
   "source": [
    "problemFile"
   ]
  },
  {
   "cell_type": "code",
   "execution_count": 20,
   "metadata": {},
   "outputs": [],
   "source": [
    "#total_list.info() #date是字串需要轉成字串物件\n",
    "total_list[\"Date\"]=pd.to_datetime(total_list[\"Date\"])\n",
    "total_list=total_list.sort_values(by=[\"Date\",\"Supplier\"])\n",
    "total_list=total_list.reset_index(drop=True)"
   ]
  },
  {
   "cell_type": "code",
   "execution_count": 21,
   "metadata": {},
   "outputs": [],
   "source": [
    "total_list[\"Actual AJE\"]=total_list[\"Actual Replenishment\"]-total_list[\"Actual Consumption\"]\n",
    "total_list[\"Supplier\"].mask(total_list[\"Supplier\"]==\"DIS** CORPORATION\",\"DIS**\",inplace=True)  \n",
    "#total_list.to_excel(\"total_list.xlsx\",index=False)"
   ]
  },
  {
   "cell_type": "code",
   "execution_count": 14,
   "metadata": {},
   "outputs": [],
   "source": [
    "historyData=total_list[total_list[\"Date\"]!=pd.Timestamp(\"2022-11-01\")]\n",
    "historyData=historyData.reset_index(drop=True)\n",
    "forecastData=total_list[total_list[\"Date\"]==pd.Timestamp(\"2022-11-01\")]\n",
    "forecastData=forecastData.reset_index(drop=True)\n",
    "forecastData[\"Actual AJE\"]=forecastData[\"AJE\"]\n",
    "historyFcstCombined=pd.concat([historyData,forecastData],sort=False,ignore_index=True)\n",
    "historyFcstCombined.to_excel(\"history_and_fcst.xlsx\",index=False)"
   ]
  },
  {
   "cell_type": "code",
   "execution_count": 22,
   "metadata": {},
   "outputs": [],
   "source": [
    "total=total_list[\"Actual AJE\"].sum()"
   ]
  }
 ],
 "metadata": {
  "kernelspec": {
   "display_name": "Python 3 (ipykernel)",
   "language": "python",
   "name": "python3"
  },
  "language_info": {
   "codemirror_mode": {
    "name": "ipython",
    "version": 3
   },
   "file_extension": ".py",
   "mimetype": "text/x-python",
   "name": "python",
   "nbconvert_exporter": "python",
   "pygments_lexer": "ipython3",
   "version": "3.9.7"
  }
 },
 "nbformat": 4,
 "nbformat_minor": 2
}
